{
  "cells": [
    {
      "cell_type": "code",
      "source": [
        "import requests"
      ],
      "metadata": {
        "id": "bvTuizOfkopE"
      },
      "execution_count": 1,
      "outputs": []
    },
    {
      "cell_type": "code",
      "source": [
        "from flask import Flask, request, jsonify\n",
        "from transformers import GPTNeoForCausalLM, AutoTokenizer\n",
        "\n",
        "# Load the GPT-4 model and tokenizer\n",
        "model = GPTNeoForCausalLM.from_pretrained(\"EleutherAI/gpt-neo-2.7B\")\n",
        "tokenizer = AutoTokenizer.from_pretrained(\"EleutherAI/gpt-neo-2.7B\")\n",
        "\n",
        "app = Flask(__name__ if __name__ == \"__main__\" else \"dummy\")"
      ],
      "metadata": {
        "colab": {
          "base_uri": "https://localhost:8080/"
        },
        "id": "0uwD9M9pkv2S",
        "outputId": "05dc710a-2d73-4557-a2ef-d21415103a1c"
      },
      "execution_count": 2,
      "outputs": [
        {
          "output_type": "stream",
          "name": "stderr",
          "text": [
            "/usr/local/lib/python3.10/dist-packages/huggingface_hub/utils/_token.py:88: UserWarning: \n",
            "The secret `HF_TOKEN` does not exist in your Colab secrets.\n",
            "To authenticate with the Hugging Face Hub, create a token in your settings tab (https://huggingface.co/settings/tokens), set it as secret in your Google Colab and restart your session.\n",
            "You will be able to reuse this secret in all of your notebooks.\n",
            "Please note that authentication is recommended but still optional to access public models or datasets.\n",
            "  warnings.warn(\n"
          ]
        }
      ]
    },
    {
      "cell_type": "code",
      "source": [
        "def get_weather_from_opendata(api_key, location=None):\n",
        "\n",
        "  api_key = '8f54f89d3afb9bf113bef482107e8c7f'\n",
        "  base_url = \"https://api.openweathermap.org/data/2.5/weather?\"\n",
        "  url = f\"{base_url}appid={api_key}&q={location}&units=metric\"\n",
        "\n",
        "  try:\n",
        "    response = requests.get(url)\n",
        "    response.raise_for_status()\n",
        "\n",
        "    data = response.json()\n",
        "    return {\n",
        "      \"temperature\": data[\"main\"][\"temp\"],\n",
        "      \"humidity\": data[\"main\"][\"humidity\"],\n",
        "    }\n",
        "  except requests.exceptions.RequestException as e:\n",
        "    print(f\"Error retrieving weather data: {e}\")\n",
        "    return None"
      ],
      "metadata": {
        "id": "Qrn8v2HIkv-o"
      },
      "execution_count": 3,
      "outputs": []
    },
    {
      "cell_type": "code",
      "source": [
        "def air_conditioner_control(desired_temperature, threshold=20):\n",
        "  weather = get_weather_from_opendata('8f54f89d3afb9bf113bef482107e8c7f', \"Taipei\")  # Replace with your API key and city\n",
        "\n",
        "  if weather is None:\n",
        "    print(\"Error getting weather data. Using default temperature.\")\n",
        "    temperature = 18  # Default temperature if weather retrieval fails\n",
        "  else:\n",
        "    temperature = weather[\"temperature\"]\n",
        "\n",
        "  if desired_temperature < threshold:\n",
        "    print(f\"Current temperature: {temperature:.1f}°C\")\n",
        "   # print(\"Turn on the air conditioner\")\n",
        "    return \"Turn on the air conditioner\"\n",
        "  else:\n",
        "    print(f\"Current temperature: {temperature:.1f}°C\")\n",
        "   # print(\"Turn off the air conditioner\")\n",
        "    return \"Turn off the air conditioner\"\n",
        "\n",
        "# Get user input for desired temperature\n",
        "desired_temp = 18\n",
        "\n",
        "# Call the air conditioner control function with desired temperature\n",
        "action = air_conditioner_control(desired_temp)\n",
        "\n",
        "print(action)"
      ],
      "metadata": {
        "colab": {
          "base_uri": "https://localhost:8080/"
        },
        "id": "o-A1MDo-lIfW",
        "outputId": "59a0e163-c807-4624-f956-e6e36084535c"
      },
      "execution_count": 4,
      "outputs": [
        {
          "output_type": "stream",
          "name": "stdout",
          "text": [
            "Current temperature: 25.7°C\n",
            "Turn on the air conditioner\n"
          ]
        }
      ]
    },
    {
      "cell_type": "code",
      "source": [
        "@app.route(\"/generate_text\", methods=[\"POST\"])\n",
        "\n",
        "def generated_text():\n",
        "  prompt = request.json.get(\"prompt\")\n",
        "  if prompt is None:\n",
        "    return jsonify({\"error\": \"Missing prompt in request body\"}), 400\n",
        "\n",
        "  input_ids = tokenizer(prompt, return_tensors=\"pt\")[\"input_ids\"]\n",
        "\n",
        "  output = model.generate(\n",
        "      input_ids=input_ids,\n",
        "      max_length=50,\n",
        "      num_return_sequences=1,\n",
        "      temperature=0.7\n",
        "  )\n",
        "\n",
        "  generated_text = tokenizer.decode(output[0], skip_special_tokens=True)\n",
        "\n",
        "  return jsonify({\"generated_text\": generated_text})\n",
        "\n",
        "@app.route(\"/air_conditioner\", methods=[\"GET\"])\n",
        "def get_ac_recommendation():\n",
        "  desired_temp = 18  # Adjust desired temperature\n",
        "\n",
        "  action = air_conditioner_control(desired_temp)\n",
        "\n",
        "  return jsonify({\"action\": action})"
      ],
      "metadata": {
        "id": "CF66KBT6pd88"
      },
      "execution_count": 10,
      "outputs": []
    },
    {
      "cell_type": "code",
      "source": [
        "if __name__ == \"__main__\":\n",
        "  app.run(debug=True)"
      ],
      "metadata": {
        "colab": {
          "base_uri": "https://localhost:8080/"
        },
        "id": "QKsDv-Jyp73R",
        "outputId": "bb1ebe4f-c610-4900-b87a-d0ded7180eb0"
      },
      "execution_count": 11,
      "outputs": [
        {
          "output_type": "stream",
          "name": "stdout",
          "text": [
            " * Serving Flask app '__main__'\n",
            " * Debug mode: on\n"
          ]
        },
        {
          "output_type": "stream",
          "name": "stderr",
          "text": [
            "INFO:werkzeug:\u001b[31m\u001b[1mWARNING: This is a development server. Do not use it in a production deployment. Use a production WSGI server instead.\u001b[0m\n",
            " * Running on http://127.0.0.1:5000\n",
            "INFO:werkzeug:\u001b[33mPress CTRL+C to quit\u001b[0m\n",
            "INFO:werkzeug: * Restarting with stat\n"
          ]
        }
      ]
    }
  ],
  "metadata": {
    "colab": {
      "provenance": []
    },
    "kernelspec": {
      "display_name": "Python 3",
      "name": "python3"
    },
    "language_info": {
      "name": "python"
    }
  },
  "nbformat": 4,
  "nbformat_minor": 0
}